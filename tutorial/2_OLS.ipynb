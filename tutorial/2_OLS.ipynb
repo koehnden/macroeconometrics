{
 "cells": [
  {
   "cell_type": "markdown",
   "metadata": {},
   "source": [
    "## Implementing OLS from scratch using numpy\n",
    "In this notebook we are implementing Ordinary Least Square (OLS) from scratch and test it empirically using a Monte Carlo Simulation. Given a regression equation $$ y = X \\beta + \\epsilon $$ where $X \\in \\mathbb{R}^{n \\times d + 1}$,  $\\beta \\in \\mathbb{R}^{\\times d + 1}$ and $ \\epsilon \\in \\mathbb{R}$, Ordinary Least Squares (OLS) estimate the parameter $\\beta$ with \n",
    "$$ \\beta = (X^T X)^{-1} X^T y $$"
   ]
  },
  {
   "cell_type": "markdown",
   "metadata": {},
   "source": [
    "##### Basic Matrix operation in numpy\n",
    "As the formula above shows. We will need Matrix operation for OLS. So lets first explore how these work in numpy"
   ]
  },
  {
   "cell_type": "code",
   "execution_count": 1,
   "metadata": {},
   "outputs": [
    {
     "name": "stdout",
     "output_type": "stream",
     "text": [
      "[16  6  8]\n"
     ]
    }
   ],
   "source": [
    "import numpy as np\n",
    "# creating a numpy array for as matrix\n",
    "A = np.array([[ 5, 1 ,3], \n",
    "                  [ 1, 1 ,1], \n",
    "                  [ 1, 2 ,1]])\n",
    "B = np.array([1, 2, 3])\n",
    "# matrix multiplication\n",
    "print A.dot(B)"
   ]
  },
  {
   "cell_type": "code",
   "execution_count": 2,
   "metadata": {},
   "outputs": [
    {
     "name": "stdout",
     "output_type": "stream",
     "text": [
      "[[5 1 1]\n",
      " [1 1 2]\n",
      " [3 1 1]]\n"
     ]
    }
   ],
   "source": [
    "# Trasnposing\n",
    "print A.T"
   ]
  },
  {
   "cell_type": "code",
   "execution_count": 3,
   "metadata": {},
   "outputs": [
    {
     "name": "stdout",
     "output_type": "stream",
     "text": [
      "[[  5.00000000e-01  -2.50000000e+00   1.00000000e+00]\n",
      " [  9.25185854e-18  -1.00000000e+00   1.00000000e+00]\n",
      " [ -5.00000000e-01   4.50000000e+00  -2.00000000e+00]]\n"
     ]
    }
   ],
   "source": [
    "# Inverse\n",
    "from numpy.linalg import inv\n",
    "Ainv = inv(A)\n",
    "print Ainv"
   ]
  },
  {
   "cell_type": "code",
   "execution_count": 4,
   "metadata": {},
   "outputs": [
    {
     "data": {
      "text/plain": [
       "array([[ 1.,  5.,  1.,  3.],\n",
       "       [ 1.,  1.,  1.,  1.],\n",
       "       [ 1.,  1.,  2.,  1.]])"
      ]
     },
     "execution_count": 4,
     "metadata": {},
     "output_type": "execute_result"
    }
   ],
   "source": [
    "# cobining columns (cbind in R)\n",
    "oneVector = np.ones(3) # one vector \n",
    "np.c_[np.ones(A.shape[0]),A]  "
   ]
  },
  {
   "cell_type": "markdown",
   "metadata": {},
   "source": [
    "Now we know everything we need to know to write an ols function"
   ]
  },
  {
   "cell_type": "code",
   "execution_count": 5,
   "metadata": {
    "collapsed": true
   },
   "outputs": [],
   "source": [
    "# ols function\n",
    "def ols(X,y):\n",
    "    X = addOneVector(X)\n",
    "    firstTerm = inv(((X.T).dot(X)))\n",
    "    secondTerm = (X.T).dot(y)\n",
    "    return firstTerm.dot(secondTerm)\n",
    "\n",
    "# function to add a vector of ones for beta_0\n",
    "def addOneVector(X):\n",
    "    d = X.shape[0]\n",
    "    return np.c_[np.ones(d), X]"
   ]
  },
  {
   "cell_type": "markdown",
   "metadata": {},
   "source": [
    "Test function on artificial data"
   ]
  },
  {
   "cell_type": "code",
   "execution_count": 40,
   "metadata": {},
   "outputs": [
    {
     "name": "stdout",
     "output_type": "stream",
     "text": [
      "[ 0.01369577 -0.04620758 -0.00130127  0.04703408 -0.06696286]\n"
     ]
    }
   ],
   "source": [
    "# create sample data\n",
    "from numpy.random import randn  \n",
    "\n",
    "data = randn(100,5) \n",
    "y = data[:,0]\n",
    "X = data[:,1:]\n",
    "\n",
    "# apply ols\n",
    "beta = ols(X,y)\n",
    "print beta"
   ]
  },
  {
   "cell_type": "markdown",
   "metadata": {},
   "source": [
    "Same Result can be also achive with the statsmodels library with surprisingly not much less code. "
   ]
  },
  {
   "cell_type": "code",
   "execution_count": 46,
   "metadata": {},
   "outputs": [
    {
     "name": "stdout",
     "output_type": "stream",
     "text": [
      "                            OLS Regression Results                            \n",
      "==============================================================================\n",
      "Dep. Variable:                      y   R-squared:                       0.008\n",
      "Model:                            OLS   Adj. R-squared:                 -0.034\n",
      "Method:                 Least Squares   F-statistic:                    0.1821\n",
      "Date:                Thu, 02 Nov 2017   Prob (F-statistic):              0.947\n",
      "Time:                        19:02:28   Log-Likelihood:                -145.58\n",
      "No. Observations:                 100   AIC:                             301.2\n",
      "Df Residuals:                      95   BIC:                             314.2\n",
      "Df Model:                           4                                         \n",
      "Covariance Type:            nonrobust                                         \n",
      "==============================================================================\n",
      "                 coef    std err          t      P>|t|      [0.025      0.975]\n",
      "------------------------------------------------------------------------------\n",
      "const          0.0137      0.107      0.128      0.899      -0.199       0.227\n",
      "x1            -0.0462      0.115     -0.402      0.689      -0.275       0.182\n",
      "x2            -0.0013      0.113     -0.012      0.991      -0.225       0.222\n",
      "x3             0.0470      0.104      0.453      0.651      -0.159       0.253\n",
      "x4            -0.0670      0.104     -0.645      0.520      -0.273       0.139\n",
      "==============================================================================\n",
      "Omnibus:                        3.099   Durbin-Watson:                   2.318\n",
      "Prob(Omnibus):                  0.212   Jarque-Bera (JB):                3.152\n",
      "Skew:                           0.058   Prob(JB):                        0.207\n",
      "Kurtosis:                       3.862   Cond. No.                         1.20\n",
      "==============================================================================\n",
      "\n",
      "Warnings:\n",
      "[1] Standard Errors assume that the covariance matrix of the errors is correctly specified.\n"
     ]
    }
   ],
   "source": [
    "from statsmodels.api import OLS\n",
    "\n",
    "X_with_const = sm.add_constant(X)\n",
    "model = OLS(y,X_with_const)\n",
    "results = model.fit()\n",
    "print results.summary()"
   ]
  },
  {
   "cell_type": "code",
   "execution_count": 8,
   "metadata": {},
   "outputs": [
    {
     "name": "stdout",
     "output_type": "stream",
     "text": [
      "98.8217586212\n"
     ]
    }
   ],
   "source": [
    "# get residual\n",
    "def getResiduals(X,y,beta):\n",
    "    X = addOneVector(X)\n",
    "    return y - X.dot(beta)\n",
    "\n",
    "def getRSS(residuals):\n",
    "    return sum(res * res) # * element-wise product\n",
    "\n",
    "res = getResiduals(X,y,beta)\n",
    "rss = getRSS(res)\n",
    "print rss"
   ]
  },
  {
   "cell_type": "markdown",
   "metadata": {},
   "source": [
    "#### Monte Carlo Simulation to assess whether the OLS \n",
    "Check if $\\hat{\\beta}$ is unbiased with $\\hat{\\beta} \\rightarrow N(0,\\sigma^{2}_{0})$ (Probably not rigth, determine the true beta and use the equation)"
   ]
  },
  {
   "cell_type": "code",
   "execution_count": 49,
   "metadata": {},
   "outputs": [
    {
     "name": "stdout",
     "output_type": "stream",
     "text": [
      "0.499902486672 0.0316220910232\n"
     ]
    }
   ],
   "source": [
    "from numpy.random import randn, normal\n",
    "repetitions = 100000\n",
    "sample_size = 1000 \n",
    "\n",
    "# the true coefficents\n",
    "beta_1 = 0.5\n",
    "beta_0 = 1\n",
    "\n",
    "# empty array to store the results\n",
    "beta_hat = np.empty(repetitions)\n",
    "\n",
    "for i in range(repetitions): \n",
    "    # generate the data process\n",
    "    epsilon = randn(sample_size,1)\n",
    "    X = randn(sample_size,1)\n",
    "    y = beta_0 + beta_1 * X + epsilon\n",
    "    # ols estimation and store beta_1\n",
    "    beta_hat[i] = ols(X,y)[1]\n",
    "\n",
    "print np.mean(beta_hat), np.std(beta_hat)"
   ]
  },
  {
   "cell_type": "code",
   "execution_count": 50,
   "metadata": {},
   "outputs": [
    {
     "data": {
      "image/png": "[encoded data removed]",
      "text/plain": [
       "<matplotlib.figure.Figure at 0xf6544e0>"
      ]
     },
     "metadata": {},
     "output_type": "display_data"
    }
   ],
   "source": [
    "import matplotlib.pyplot as plt\n",
    "count, bins, ignored = plt.hist(beta_hat, 100, normed=True)\n",
    "plt.xlabel('beta_hat')\n",
    "plt.ylabel('Probability')\n",
    "plt.title('Histogram of OLS estimator')\n",
    "plt.grid(True)\n",
    "plt.show()"
   ]
  },
  {
   "cell_type": "markdown",
   "metadata": {},
   "source": [
    "Average $\\hat{\\beta_1}$ converges against 0.5 which we set as the true value. Meaning that the OLS estimator is consistent."
   ]
  },
  {
   "cell_type": "code",
   "execution_count": null,
   "metadata": {
    "collapsed": true
   },
   "outputs": [],
   "source": []
  }
 ],
 "metadata": {
  "kernelspec": {
   "display_name": "Python 2",
   "language": "python",
   "name": "python2"
  },
  "language_info": {
   "codemirror_mode": {
    "name": "ipython",
    "version": 2
   },
   "file_extension": ".py",
   "mimetype": "text/x-python",
   "name": "python",
   "nbconvert_exporter": "python",
   "pygments_lexer": "ipython2",
   "version": "2.7.12"
  }
 },
 "nbformat": 4,
 "nbformat_minor": 2
}
