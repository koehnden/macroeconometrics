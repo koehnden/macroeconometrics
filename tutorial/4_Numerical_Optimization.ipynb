{
 "cells": [
  {
   "cell_type": "markdown",
   "metadata": {},
   "source": [
    "# Numerical Optimization\n",
    "Example: Solving OLS numerical, i.e. minimize the function $$\\min_{\\beta} \\sum_{t=1}^{N} (Y_t - \\beta X_t)^2$$ "
   ]
  },
  {
   "cell_type": "markdown",
   "metadata": {},
   "source": [
    "Example in the Lecture uses $fminsearch$ from Matlab. The Python equivalent is $fmin$ method from the scipy package. The function take a function (which is to be optimize) and a initial guess as input (x0). "
   ]
  },
  {
   "cell_type": "code",
   "execution_count": 1,
   "metadata": {},
   "outputs": [
    {
     "name": "stdout",
     "output_type": "stream",
     "text": [
      "Optimization terminated successfully.\n",
      "         Current function value: 998.707322\n",
      "         Iterations: 15\n",
      "         Function evaluations: 30\n",
      "[ 0.46875]\n"
     ]
    }
   ],
   "source": [
    "import numpy as np\n",
    "from numpy.random import randn, normal\n",
    "from scipy.optimize import fmin\n",
    "\n",
    "# generate a regression process\n",
    "X = randn(1000,1)\n",
    "epsilon = randn(1000,1)\n",
    "beta = 0.5\n",
    "Y = beta * X + epsilon\n",
    "\n",
    "# preform optimization\n",
    "beta_hat = fmin(func=lambda b: sum((Y-b*X)**2), x0=0.1, xtol=0.001) \n",
    "print beta_hat"
   ]
  },
  {
   "cell_type": "markdown",
   "metadata": {},
   "source": [
    "Interesting settings are: \n",
    "- xtol - determines the tolerance at which the algorithm stops\n",
    "- ftol - the same as xtol but on the function value\n",
    "- maxiter - determines the maximum of iterations\n",
    "- x0 - initial value (recommend to start from multiple values -> basically checking if problem is convex)"
   ]
  },
  {
   "cell_type": "markdown",
   "metadata": {},
   "source": []
  }
 ],
 "metadata": {
  "kernelspec": {
   "display_name": "Python 2",
   "language": "python",
   "name": "python2"
  },
  "language_info": {
   "codemirror_mode": {
    "name": "ipython",
    "version": 2
   },
   "file_extension": ".py",
   "mimetype": "text/x-python",
   "name": "python",
   "nbconvert_exporter": "python",
   "pygments_lexer": "ipython2",
   "version": "2.7.12"
  }
 },
 "nbformat": 4,
 "nbformat_minor": 2
}
